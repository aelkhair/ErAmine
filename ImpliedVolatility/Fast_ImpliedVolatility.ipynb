{
 "cells": [
  {
   "cell_type": "code",
   "execution_count": 1,
   "metadata": {},
   "outputs": [],
   "source": [
    "def find_vol(target_value, call_put, S, K, T, r):\n",
    "    MAX_ITERATIONS = 100\n",
    "    PRECISION = 1.0e-5\n",
    "\n",
    "    sigma = 0.5\n",
    "    for i in range(0, MAX_ITERATIONS):\n",
    "        price = bs_price(call_put, S, K, T, r, sigma)\n",
    "        vega = bs_vega(call_put, S, K, T, r, sigma)\n",
    "\n",
    "        price = price\n",
    "        diff = target_value - price  # our root\n",
    "\n",
    "        if (abs(diff) < PRECISION):\n",
    "            return sigma\n",
    "        sigma = sigma + diff/vega # f(x) / f'(x)\n",
    "\n",
    "    # value wasn't found, return best guess so far\n",
    "    return sigma"
   ]
  },
  {
   "cell_type": "code",
   "execution_count": 2,
   "metadata": {},
   "outputs": [],
   "source": [
    "from scipy.stats import norm\n",
    "import math\n",
    "\n",
    "n = norm.pdf\n",
    "N = norm.cdf\n",
    "\n",
    "def bs_price(cp_flag,S,K,T,r,v,q=0.0):\n",
    "    d1 = (math.log(S/K)+(r+v*v/2.)*T)/(v*math.sqrt(T))\n",
    "    d2 = d1-v*math.sqrt(T)\n",
    "    if cp_flag == 'c':\n",
    "        price = S*math.exp(-q*T)*N(d1)-K*math.exp(-r*T)*N(d2)\n",
    "    else:\n",
    "        price = K*math.exp(-r*T)*N(-d2)-S*math.exp(-q*T)*N(-d1)\n",
    "    return price\n",
    "\n",
    "def bs_vega(cp_flag,S,K,T,r,v,q=0.0):\n",
    "    d1 = (math.log(S/K)+(r+v*v/2.)*T)/(v*math.sqrt(T))\n",
    "    return S * math.sqrt(T)*n(d1)"
   ]
  },
  {
   "cell_type": "code",
   "execution_count": 3,
   "metadata": {},
   "outputs": [
    {
     "name": "stdout",
     "output_type": "stream",
     "text": [
      "Implied vol: 21.92%\n",
      "Market price = 17.50000\n",
      "Model price = 17.50000\n"
     ]
    }
   ],
   "source": [
    "import datetime\n",
    "\n",
    "V_market = 17.5\n",
    "K = 585\n",
    "T = (datetime.date(2014,10,18) - datetime.date(2014,9,8)).days / 365.\n",
    "S = 586.08\n",
    "r = 0.0002\n",
    "cp = 'c' # call option\n",
    "\n",
    "implied_vol = find_vol(V_market, cp, S, K, T, r)\n",
    "\n",
    "print('Implied vol: {0:.2f}%'.format(implied_vol * 100))\n",
    "\n",
    "print('Market price = {0:.5f}'.format(V_market))\n",
    "print('Model price = {0:.5f}'.format(bs_price(cp, S, K, T, r, implied_vol)))"
   ]
  },
  {
   "cell_type": "code",
   "execution_count": null,
   "metadata": {},
   "outputs": [],
   "source": []
  }
 ],
 "metadata": {
  "kernelspec": {
   "display_name": "Python 3",
   "language": "python",
   "name": "python3"
  },
  "language_info": {
   "codemirror_mode": {
    "name": "ipython",
    "version": 3
   },
   "file_extension": ".py",
   "mimetype": "text/x-python",
   "name": "python",
   "nbconvert_exporter": "python",
   "pygments_lexer": "ipython3",
   "version": "3.6.8"
  }
 },
 "nbformat": 4,
 "nbformat_minor": 2
}
