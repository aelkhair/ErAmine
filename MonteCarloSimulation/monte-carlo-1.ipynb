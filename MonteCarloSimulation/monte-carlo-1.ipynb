{
 "cells": [
  {
   "cell_type": "markdown",
   "metadata": {},
   "source": [
    "$\\newcommand\\E{{\\mathbf E}}$\n",
    "$\\newcommand\\indi[1]{{\\mathbf 1}_{\\displaystyle #1}}$\n",
    "$\\newcommand\\inde[1]{{\\mathbf 1}_{\\displaystyle\\left\\{ #1 \\right\\}}}$\n",
    "$\\newcommand{\\ind}{\\inde}$\n",
    "$\\newcommand{\\N}{{\\mathbb N}}$\n",
    "$\\newcommand{\\P}{{\\mathbb P}}$\n",
    "$\\newcommand{\\R}{{\\mathbb R}}$\n",
    "$\\newcommand{\\Z}{{\\mathbb Z}}$"
   ]
  },
  {
   "cell_type": "markdown",
   "metadata": {},
   "source": [
    "<h1 align=\"center\">Méthode de monte-carlo pour le pricing d'option</h1>\n",
    "<h2 align=\"center\">Le modèle de Black et Scholes</h2>\n",
    "<h3 align=\"center\">Bernard Lapeyre, Octobre  2018</h3>"
   ]
  },
  {
   "cell_type": "markdown",
   "metadata": {},
   "source": [
    "## 1. Préliminaires"
   ]
  },
  {
   "cell_type": "markdown",
   "metadata": {},
   "source": [
    "__Question 1.1.__ Ecrire une fonction __Python__ qui calcule la moyenne\n",
    "  empirique `Moyenne`, la variance empirique `Variance`\n",
    "  empirique d'un tableau de nombre.\n",
    "  \n",
    "Vérifiez qu'elles coïncident (presque) avec les fonctions prédéfinies de __Python__: `np.mean`, `np.var`."
   ]
  },
  {
   "cell_type": "code",
   "execution_count": 1,
   "metadata": {},
   "outputs": [],
   "source": [
    "import numpy as np;\n",
    "import math;\n",
    "import scipy.stats as stats;\n",
    "import random;\n",
    "import matplotlib.pyplot as plt;\n",
    "\n",
    "def moyenne(x):\n",
    "  res=sum(x)/len(x)\n",
    "  return res\n",
    "\n",
    "\n",
    "def Variance(x):\n",
    "  res = moyenne((x-moyenne(x))**2)\n",
    "  N = np.size(x)\n",
    "  return res*N/(N-1)"
   ]
  },
  {
   "cell_type": "code",
   "execution_count": 4,
   "metadata": {},
   "outputs": [
    {
     "name": "stdout",
     "output_type": "stream",
     "text": [
      "Mes functions :  0.4870183680402107 0.085612175892366\n",
      "Celles de numpy :  0.48701836804021076 0.08552656371647369\n"
     ]
    }
   ],
   "source": [
    "n=1000\n",
    "x=np.random.rand(n) # n tirages uniforme sur [0,1]\n",
    "print('Mes functions : ',moyenne(x),Variance(x))\n",
    "print('Celles de numpy : ',np.mean(x),np.var(x))"
   ]
  },
  {
   "cell_type": "markdown",
   "metadata": {},
   "source": [
    " __Question 1.2.__ Ecrire une fonction permettant de simuler un vecteur consitué\n",
    "  de variables aléatoires gaussiennes centrées réduites indépendantes.\n",
    "\n",
    "  Tracer l'histogramme du vecteur obtenu et verifier qu'il correspond bien\n",
    "  à la loi gaussienne centrée réduite. \n",
    "\n",
    "  Cette fonction existe dans __Python__ : `np.random.normal(size=n)`.\n"
   ]
  },
  {
   "cell_type": "code",
   "execution_count": 11,
   "metadata": {},
   "outputs": [
    {
     "data": {
      "image/png": "[encoded data removed]",
      "text/plain": [
       "<Figure size 432x288 with 1 Axes>"
      ]
     },
     "metadata": {},
     "output_type": "display_data"
    }
   ],
   "source": [
    "def gauss(N):\n",
    "  U=np.random.rand(N)# U est un vecteur (1,n)\n",
    "  V=np.random.rand(N)# V est un vecteur (1,n)\n",
    "  return np.sqrt(-2*np.log(U))*np.cos(2*np.pi*V)\n",
    "\n",
    "# On trace la densité de la gaussienne centrée réduite\n",
    "x = np.linspace(-5,5,100)\n",
    "densiteGaussienne = 1./np.sqrt(2*np.pi)*np.exp(-0.5*x**2)\n",
    "plt.plot(x, densiteGaussienne, color=\"red\", label=\"densite gaussienne\")\n",
    "plt.legend(loc=\"best\")\n",
    "\n",
    "# On superpose avec une densite empirique (obtenue par simulation)\n",
    "X=gauss(10000)  # notre tirage gaussien\n",
    "                # on aurait pu utiliser X = np.random.normal(size=10000)\n",
    "                # qui fait le meme chose\n",
    "plt.hist(X, density=\"True\", bins=100, label=\"erreur normalisee\");"
   ]
  },
  {
   "cell_type": "markdown",
   "metadata": {},
   "source": [
    "__Question 1.3.__ On cherche à calculer par simulation $\\E(e^{\\beta G})$ où $G$\n",
    "  est une gaussienne centrée réduite. On rappelle que $\\E(e^{\\beta\n",
    "    G})=\\exp(\\beta^2/2)$.\n",
    "\n",
    "  Calculer par simulation $\\E(e^{\\beta G})$ pour\n",
    "  $\\beta=2,4,6,8,10\\ldots$. Précisez à chaque fois une intervalle de\n",
    "  confiance. Pour quelles valeurs de $\\beta$ peut on utiliser cette\n",
    "  méthode de monte-carlo ?"
   ]
  },
  {
   "cell_type": "code",
   "execution_count": 28,
   "metadata": {},
   "outputs": [
    {
     "name": "stdout",
     "output_type": "stream",
     "text": [
      "N= 100000 , Valeur =  1.63  Erreur relative =  1.0 %\n",
      "N= 100000 , Valeur =  7.39  Erreur relative =  0.0 %\n",
      "N= 100000 , Valeur =  2444.85  Erreur relative =  18.0 %\n",
      "N= 100000 , Valeur =  2387235.83  Erreur relative =  96.4 %\n",
      "N= 100000 , Valeur =  293421174538.91  Erreur relative =  99.6 %\n",
      "N= 1000000 , Valeur =  91013504830.59  Erreur relative =  99.9 %\n"
     ]
    }
   ],
   "source": [
    "def test_1(N,b):\n",
    "  X=np.exp(b*np.random.normal(size=N))\n",
    "\n",
    "  estimation=np.mean(X);\n",
    "  erreur_estimee= X - estimation\n",
    "  valeur_exacte = np.exp(b*b/2);\n",
    "  erreur = np.abs(estimation-valeur_exacte)/valeur_exacte;\n",
    "  print(\"N=\",N,\", Valeur = \",'{0:.2f}'.format(estimation),\" Erreur relative = \", '{0:.1f}'.format(100 * erreur),\"%\")\n",
    "\n",
    "test_1(100000,1);\n",
    "test_1(100000,2);\n",
    "test_1(100000,4);\n",
    "test_1(100000,6);\n",
    "test_1(100000,8);\n",
    "test_1(1000000,8);\n"
   ]
  },
  {
   "cell_type": "markdown",
   "metadata": {},
   "source": [
    "## 2. Le modèle de Black et Scholes"
   ]
  },
  {
   "cell_type": "markdown",
   "metadata": {},
   "source": [
    "On considère le modèle de Black et Scholes :\n",
    "$$\n",
    "  S_t = S_0 \\exp\\left(\\left(r-\\frac{\\sigma^2}{2}\\right)t + \\sigma W_t\\right).\n",
    "$$\n",
    "On supposera dans la suite que $S_0=100$, \n",
    "$\\sigma=0.3$ (volatilité annuelle) et $r=0.05$ (taux d'intérêt\n",
    "exponentiel annuel)."
   ]
  },
  {
   "cell_type": "markdown",
   "metadata": {},
   "source": [
    "__Question 2.1.__ Tracer l'histogramme de la loi de $S_T$, pour $T=1$,\n",
    "  $\\sigma=0.3$ (volatilité annuelle) et $r=0.05$ (taux d'intérêt\n",
    "  exponentiel annuel)."
   ]
  },
  {
   "cell_type": "code",
   "execution_count": 40,
   "metadata": {},
   "outputs": [
    {
     "data": {
      "image/png": "[encoded data removed]",
      "text/plain": [
       "<Figure size 432x288 with 1 Axes>"
      ]
     },
     "metadata": {},
     "output_type": "display_data"
    }
   ],
   "source": [
    "T=1; # an\n",
    "S_0=100; \n",
    "r=0.05; # par an\n",
    "sigma=0.3; # par racine d'annee sigma^2 * T  est sans dimension\n",
    "K=100;\n",
    "\n",
    "# Question 1\n",
    "N=10000;\n",
    "W_T=np.sqrt(T)*np.random.normal(size=N);\n",
    "S_T=S_0*np.exp((r-(sigma**2/2))*T+sigma*W_T)\n",
    "plt.hist(W_T, density=\"True\", bins=100, label=\"erreur normalisee\");"
   ]
  },
  {
   "cell_type": "code",
   "execution_count": 41,
   "metadata": {},
   "outputs": [
    {
     "data": {
      "image/png": "[encoded data removed]",
      "text/plain": [
       "<Figure size 432x288 with 1 Axes>"
      ]
     },
     "metadata": {},
     "output_type": "display_data"
    }
   ],
   "source": [
    "plt.hist(S_T, density=\"True\", bins=100, label=\"erreur normalisee\");"
   ]
  },
  {
   "cell_type": "markdown",
   "metadata": {},
   "source": [
    "__Question 2.2.__ On cherche à calculer le prix d'un call de strike $K=100$.\n",
    "  Calculer ce prix par une méthode de monte-carlo avec un nombre\n",
    "  de tirages égaux à $N=1000$,$1000$,$10000$. On précisera \n",
    "  l'intervalle de confiance."
   ]
  },
  {
   "cell_type": "code",
   "execution_count": 61,
   "metadata": {},
   "outputs": [
    {
     "name": "stdout",
     "output_type": "stream",
     "text": [
      "Direct N = 100 : 18.82397827989935 +- 4.986211200031962\n",
      "Direct N = 1000 : 15.106955818531599 +- 1.487267336140701\n",
      "Direct N = 10000 : 15.154798131002124 +- 0.4693688352340512\n",
      "Direct N = 100000 : 15.099216761148691 +- 0.14834051002360024\n"
     ]
    }
   ],
   "source": [
    "# Question 2\n",
    "T=1; # an\n",
    "S_0=100; \n",
    "r=0.05; # par an\n",
    "sigma=0.3; # par racine d'annee sigma^2 * T  est sans dimension\n",
    "K=100;\n",
    "\n",
    "def stdev(payoff):\n",
    "    return np.sqrt(np.var(payoff));\n",
    "\n",
    "def call(x,K):\n",
    "    return np.maximum(x-K*np.ones(np.size(x)),np.zeros(np.size(x)));\n",
    "\n",
    "def test_call(N):\n",
    "    W_T=np.sqrt(T)*np.random.normal(size=N);\n",
    "    S_T=S_0*np.exp((r-sigma**2/2)*T + sigma*W_T);\n",
    "    payoff=call(S_T,K)\n",
    "\n",
    "    estimation=np.mean(payoff);  # estimation de la moyenne\n",
    "    ecart_type=stdev(payoff); # estimation de l'ecart type\n",
    "    erreur=1.96*ecart_type/np.sqrt(N); # demi-largeur de l'intervalle de confiance\n",
    "    print('Direct N =',N,':', estimation,'+-', erreur);\n",
    "\n",
    "test_call(100);\n",
    "test_call(1000);\n",
    "test_call(10000);\n",
    "test_call(100000);\n"
   ]
  },
  {
   "cell_type": "markdown",
   "metadata": {},
   "source": [
    " __Question 2.3.__ On va chercher à utiliser la variable aléatoire $S_T$ comme une\n",
    "  variable de contrôle. Vérifiez que $\\E(S_T)=S_0 e^{rT}$ (pourquoi ?).\n",
    "\n",
    "  Ecrire un programme qui utilise $S_T$ comme variable de contrôle.\n",
    "  Comparer la précision de cette méthode avec la précédente suivant les\n",
    "  valeur relative de $K$ et $S_0$.\n",
    "\n",
    "  Se convaincre que l'on a ainsi ramené le calcul du call à un calcul\n",
    "  de put."
   ]
  },
  {
   "cell_type": "code",
   "execution_count": 59,
   "metadata": {},
   "outputs": [
    {
     "name": "stdout",
     "output_type": "stream",
     "text": [
      "Direct N = 10000 : 5.11052843175473 +- 0.6331339264495626\n",
      "CallPut N= 10000 :  9.916513733237755 +- 0.26922813723519595\n",
      "Direct N = 10000 : 24.91277842497509 +- 0.6344325966465431\n",
      "CallPut N= 10000 :  2.7813354394050402 +- 0.13075199320123693\n",
      "Direct N = 10000 : 44.643244915798725 +- 0.6343850434333003\n",
      "CallPut N= 10000 :  0.2500777406741275 +- 0.03096205995052386\n"
     ]
    }
   ],
   "source": [
    "# Question 3\n",
    "T=1; # an\n",
    "S_0=100; \n",
    "r=0.05; # par an\n",
    "sigma=0.3; # par racine d'annee sigma^2 * T  est sans dimension\n",
    "K=100;\n",
    "\n",
    "def put(x,K):\n",
    "    return np.maximum(K*np.ones(np.size(x))-x,np.zeros(np.size(x)));\n",
    "\n",
    "def test_call_arbitrage(N):\n",
    "# C-P = S_0 - K exp(-rT)\n",
    "# On peut donc construire un nouvel estimateur\n",
    "# S_0 - K exp(-rT) + exp(-rT) * (K-S_T)_+\n",
    "\n",
    "    W_T=np.sqrt(T)*np.random.normal(size=N);\n",
    "    S_T=S_0*np.exp((r-sigma**2/2)*T + sigma*W_T);\n",
    "    payoff= put(S_T,K)\n",
    "    \n",
    "    estimation=np.mean(payoff);  # estimation de la moyenne\n",
    "    ecart_type=stdev(payoff); # estimation de l'ecart type\n",
    "    erreur=1.96*ecart_type/np.sqrt(N); # demi-largeur de l'intervalle de confiance\n",
    "\n",
    "    print(\"CallPut N=\",N,\": \", estimation, \"+-\", erreur);\n",
    "\n",
    "K=100;test_call(10000);test_call_arbitrage(10000);\n",
    "K= 80;test_call(10000);test_call_arbitrage(10000);\n",
    "K= 60;test_call(10000);test_call_arbitrage(10000);\n"
   ]
  },
  {
   "cell_type": "markdown",
   "metadata": {},
   "source": [
    "__Question 2.4.__ On se place dans la cas d'un call de strike $K$ grand devant\n",
    "  $S_0$.  Montrer par simulation que la précision relative du calcul\n",
    "  décroit au fur et à mesure que $K/S_0$ décroit. On prendra $S_0=100$\n",
    "  et $K=100$, $150$, $200$, $250$.  Que se passe t'il pour $K=400$ ?"
   ]
  },
  {
   "cell_type": "code",
   "execution_count": 63,
   "metadata": {},
   "outputs": [
    {
     "name": "stdout",
     "output_type": "stream",
     "text": [
      "Précision relative en % :  3.0932305729065424\n",
      "Précision relative en % :  9.054933252664235\n",
      "Précision relative en % :  28.362455225320875\n",
      "Précision relative en % :  76.42461343207646\n"
     ]
    }
   ],
   "source": [
    "# Question 4\n",
    "T=1; # an\n",
    "S_0=100; \n",
    "r=0.05; # par an\n",
    "sigma=0.3; # par racine d'annee sigma^2 * T  est sans dimension\n",
    "\n",
    "def precision_relative(K,N):\n",
    "    W_T=np.sqrt(T)*np.random.normal(size=N);\n",
    "    S_T=S_0*np.exp((r-sigma**2/2)*T + sigma*W_T);\n",
    "    payoff=np.exp(-r*T) * call(S_T,K);\n",
    "\n",
    "    estimation=np.mean(payoff);  # estimation de la moyenne\n",
    "    ecart_type=stdev(payoff); # estimation de l'ecart type\n",
    "    erreur=1.96*ecart_type/np.sqrt(N); # demi-largeur de l'intervalle de confiance\n",
    "\n",
    "    erreur_relative=A_FAIRE\n",
    "    print(\"Précision relative en % : \",100 * erreur_relative);\n",
    "\n",
    "S_0=100;N=10000;\n",
    "precision_relative(100,N)\n",
    "precision_relative(150,N)\n",
    "precision_relative(200,N)\n",
    "precision_relative(250,N)\n"
   ]
  },
  {
   "cell_type": "markdown",
   "metadata": {},
   "source": [
    "__Question 2.5.__ Montrer que:\n",
    "  $$\n",
    "  \\E\\left(f(W_T)\\right) \n",
    "     = \\E\\left(e^{-\\lambda W_T -\\frac{\\lambda^2 T}{2}}f(W_T+\\lambda T)\\right).\n",
    "  $$\n",
    "  On se place dans le cas du call avec $S_0=100$ et $K=150$.\n",
    "  Proposer une valeur de $\\lambda$ permettant de réduire la variance de\n",
    "  la simulation."
   ]
  },
  {
   "cell_type": "code",
   "execution_count": 64,
   "metadata": {},
   "outputs": [
    {
     "name": "stdout",
     "output_type": "stream",
     "text": [
      "Girsanov, (lambda= 0 ), N= 5000  : 2.0456436671884632 +- 0.2625316743093051\n",
      "Girsanov, (lambda= 1.3348836936938813 ), N= 5000  : 2.076059977415355 +- 0.06349875219169329\n",
      "2.0579856799087306\n",
      "Girsanov, (lambda= 0 ), N= 5000  : 0.21399391031769718 +- 0.0737928394802455\n",
      "Girsanov, (lambda= 2.2938239351998178 ), N= 5000  : 0.2368242061540815 +- 0.007694646970358862\n",
      "0.23482639362510893\n"
     ]
    }
   ],
   "source": [
    "# Question 5\n",
    "\n",
    "# La formule de Black et Scholes\n",
    "# pour verifier\n",
    "\n",
    "def NN(x):\n",
    "    return stats.norm.cdf(x,0,1);\n",
    "\n",
    "def BS_Call(S_0,K,sigma,r,T):\n",
    "    d1=(math.log(S_0/K)+(r+sigma**2/2)*T)/(sigma*math.sqrt(T));\n",
    "    d2=d1-sigma*np.sqrt(T);\n",
    "    return S_0*NN(d1)-K*np.exp(-r*T)*NN(d2);\n",
    "\n",
    "def test_call_girsanov(r, sigma, S_0, T, K, Lambda,N):\n",
    "    W_T=math.sqrt(T)*np.random.normal(size=N);\n",
    "    S_T=S_0*np.exp((r-sigma**2/2)*T + sigma*(W_T+Lambda* T));\n",
    "    payoff=math.exp(-r*T) * call(S_T,K);\n",
    "    importance = A_FAIRE# Pour l'importance voir la formule du texte\n",
    "    payoff = importance * payoff; \n",
    "\n",
    "    estimation=np.mean(payoff);  # estimation de la moyenne\n",
    "    ecart_type=stdev(payoff); # estimation de l'ecart type\n",
    "    erreur=1.96*ecart_type/math.sqrt(N); # demi-largeur de l'intervalle de confiance\n",
    "    print(\"Girsanov, (lambda=\",Lambda,\"), N=\",N, \" :\", estimation,\"+-\", erreur);\n",
    "\n",
    "T = 1; # an\n",
    "S_0 = 100; \n",
    "r = 0.05; # par an\n",
    "sigma = 0.3; # par racine d'annee sigma^2 * T  est sans dimension\n",
    "\n",
    "N=5000;\n",
    "K=150;\n",
    "Lambda=0;# simulation naturelle, importance=1\n",
    "test_call_girsanov(r, sigma, S_0, T, K, Lambda,N);\n",
    "\n",
    "Lambda= (math.log(K/S_0)-(r-sigma**2/2)*T)/(sigma*T); # avec ce lambda avec proba 1/2,  S_T > K, condition d'exercice \n",
    "test_call_girsanov(r, sigma, S_0, T, K, Lambda,N);\n",
    "\n",
    "# Vérification\n",
    "print(BS_Call(S_0,K,sigma,r,T))\n",
    "\n",
    "K=200;\n",
    "\n",
    "Lambda=0;# simulation naturelle, importance=1\n",
    "test_call_girsanov(r, sigma, S_0, T, K, Lambda,N);\n",
    "\n",
    "Lambda= (math.log(K/S_0)-(r-sigma**2/2)*T)/(sigma*T);\n",
    "    # avec ce lambda avec proba 1/2,  S_T > K, condition d'exercice \n",
    "test_call_girsanov(r, sigma, S_0, T, K, Lambda,N);\n",
    "\n",
    "# Vérification\n",
    "print(BS_Call(S_0,K,sigma,r,T))\n"
   ]
  },
  {
   "cell_type": "markdown",
   "metadata": {},
   "source": [
    "# 3. Modèle de Panier"
   ]
  },
  {
   "cell_type": "markdown",
   "metadata": {},
   "source": [
    "On s'intéresse à un modèle de panier constitué à partir de $d$ actifs.\n",
    "On suppose que chacun de ces $d$ actifs de prix $S^i_t$ suit un modèle de\n",
    "black et Scholes guidé par un mouvement $W^i_t$~:\n",
    "$$\n",
    "   \\frac{d S^i_t}{S^i_t} = r dt + \\sigma dW^i_t, S^i_0=x_i.\n",
    "$$\n",
    "On prendra dans les applications numériques $x_i=100$ et $d=10$.\n",
    "\n",
    "Pour déterminer complètement le modèle on doit spécifier les \n",
    "corrélation entre les mouvements browniens. Pour cela on suppose\n",
    "que~:\n",
    "$$\n",
    "   d<W_i,W_j>_t = \\rho dt,\n",
    "$$\n",
    "$\\rho$ étant une constante donnée que l'on prendra égale à $0.5$ \n",
    "dans les simulations.\n"
   ]
  },
  {
   "cell_type": "markdown",
   "metadata": {},
   "source": [
    "__Question 3.1__ Calculer la matrice de corrélation du vecteur\n",
    "  $(W^1_T,\\ldots,W^d_T)$.  Montrer qu'elle est\n",
    "  définie positive."
   ]
  },
  {
   "cell_type": "markdown",
   "metadata": {},
   "source": [
    "__Question 3.2__ Proposer une méthode de simulation pour le vecteur\n",
    "  $(W^1_T,\\ldots,W^d_T)$ et $(S^1_T,\\ldots,S^d_T)$."
   ]
  },
  {
   "cell_type": "markdown",
   "metadata": {},
   "source": [
    " __Question 3.3__ On s'intéresse maintenant au calcul du prix d'un call sur\n",
    "   un indice de prix $I_t$ donnée par\n",
    "   $$\n",
    "      I_t = a_1 S^1_t + \\cdots + a_d S^d_t.\n",
    "   $$\n",
    "   On prendra dans les applications numériques $a_1=\\cdots=a_d=1/d$.\n",
    "   Calculer par simulation la valeur du call de payoff à l'instant $T$\n",
    "   $$\n",
    "      \\left(I_T-K\\right)_+,\n",
    "   $$\n",
    "   et estimer l'erreur commise dans le cas où $K=I_0$.\n"
   ]
  },
  {
   "cell_type": "markdown",
   "metadata": {},
   "source": [
    "__Question 3.3__ Montrer une relation d'arbitrage call-put et montrer que l'on\n",
    "   peut l'utiliser pour mettre en oeuvre une technique de réduction de\n",
    "   variance."
   ]
  },
  {
   "cell_type": "markdown",
   "metadata": {},
   "source": [
    "__Question 3.4__ En utilisant le \"théorème de Girsanov\" pour les $d$ mouvements\n",
    "   browniens proposer une technique de réduction de variance dans le cas\n",
    "   où $I_0$ est petit devant $K$."
   ]
  },
  {
   "cell_type": "markdown",
   "metadata": {},
   "source": [
    " __Question 3.5__ En supposant que $r$ et $\\sigma$ tendent vers $0$ expliquer pourquoi\n",
    " il est raisonnable d'approximer $\\log(I_t/I_0)$ par:\n",
    " $$\n",
    "      a_1 S^1_0 \\log(S^1_t/S^1_0) + \\cdots + a_d S^d_0 \\log(S^d_t/S^d_0).\n",
    " $$\n",
    " En déduire une variable de contrôle pour le calcul du prix du call.\n",
    " Évaluer par simulation le gain de la méthode. "
   ]
  },
  {
   "cell_type": "code",
   "execution_count": null,
   "metadata": {},
   "outputs": [],
   "source": []
  }
 ],
 "metadata": {
  "kernelspec": {
   "display_name": "Python 3",
   "language": "python",
   "name": "python3"
  },
  "language_info": {
   "codemirror_mode": {
    "name": "ipython",
    "version": 3
   },
   "file_extension": ".py",
   "mimetype": "text/x-python",
   "name": "python",
   "nbconvert_exporter": "python",
   "pygments_lexer": "ipython3",
   "version": "3.6.8"
  }
 },
 "nbformat": 4,
 "nbformat_minor": 2
}
