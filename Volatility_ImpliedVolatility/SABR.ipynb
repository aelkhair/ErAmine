{
 "cells": [
  {
   "cell_type": "code",
   "execution_count": 3,
   "metadata": {},
   "outputs": [],
   "source": [
    "import pandas as pd\n",
    "from scipy.optimize import minimize"
   ]
  },
  {
   "cell_type": "code",
   "execution_count": 4,
   "metadata": {},
   "outputs": [],
   "source": [
    "def SABR(alpha, beta, rho, nu, F, K, time, MKT):\n",
    "    if K <= 0:\n",
    "        VOL = 0\n",
    "        diff = 0\n",
    "    elif F == K:\n",
    "        V = (F*K)**((1-beta)/2.)\n",
    "        logFK = pd.np.log(F/K)\n",
    "        A = 1 + (((1-beta)**2*alpha**2)/(24.*(V**2))+(alpha*beta*nu*rho)/(4.*V)+((nu**2)*(2-3*(rho**2))/24.))*time\n",
    "        B = 1 + (1/24.)*(((1-beta)*logFK)**2) + (1/1920.)*(((1-beta)*logFK)**4)\n",
    "        VOL = (alpha/V)*A\n",
    "        diff = VOL - MKT\n",
    "    elif F != K:\n",
    "        V = (F*K)**((1-beta)/2.)\n",
    "        logFK = pd.np.log(F/K)\n",
    "        z = (nu/alpha)*V*logFK\n",
    "        x = pd.np.log( ( pd.np.sqrt(1-2*rho*z+z**2) + z - rho ) / (1-rho) )\n",
    "        A = 1 + ( ((1-beta)**2*alpha**2)/(24.*(V**2)) + (alpha*beta*nu*rho)/(4.*V) + ((nu**2)*(2-3*(rho**2))/24.) ) * time\n",
    "        B = 1 + (1/24.)*(((1-beta)*logFK)**2) + (1/1920.)*(((1-beta)*logFK)**4)\n",
    "        VOL = (nu*logFK*A)/(x*B)\n",
    "        diff = VOL - MKT\n",
    "    \n",
    "    print(\"Volatility: {}\".format(round(VOL,4)))\n",
    "    print(\"Diff: {}\".format(round(diff,4)))"
   ]
  },
  {
   "cell_type": "code",
   "execution_count": 5,
   "metadata": {},
   "outputs": [
    {
     "name": "stdout",
     "output_type": "stream",
     "text": [
      "Volatility: 1.2083\n",
      "Diff: 0.2083\n"
     ]
    }
   ],
   "source": []
  }
 ],
 "metadata": {
  "kernelspec": {
   "display_name": "Python 3",
   "language": "python",
   "name": "python3"
  },
  "language_info": {
   "codemirror_mode": {
    "name": "ipython",
    "version": 3
   },
   "file_extension": ".py",
   "mimetype": "text/x-python",
   "name": "python",
   "nbconvert_exporter": "python",
   "pygments_lexer": "ipython3",
   "version": "3.6.8"
  }
 },
 "nbformat": 4,
 "nbformat_minor": 2
}
