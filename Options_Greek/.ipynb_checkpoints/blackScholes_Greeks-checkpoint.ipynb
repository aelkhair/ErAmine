{
 "cells": [
  {
   "cell_type": "code",
   "execution_count": 1,
   "metadata": {},
   "outputs": [],
   "source": [
    "import pandas as pd\n",
    "from scipy.stats import norm\n",
    "import numpy as np"
   ]
  },
  {
   "cell_type": "code",
   "execution_count": 2,
   "metadata": {},
   "outputs": [],
   "source": [
    "def d1(S, K, dT, sigma, r, q):\n",
    "    return (np.log(S / K) + (r-q+sigma**2/2)*dT) / (sigma*np.sqrt(dT))\n",
    "\n",
    "def d2(S, K, dT, sigma, r, q):\n",
    "    d_1 = d1(S, K, dT, sigma, r, q)\n",
    "    return d_1 - sigma*np.sqrt(dT)\n",
    "\n",
    "def blackScholes(S, K, dT, sigma, r, q):\n",
    "    d_1 = d1(S, K, dT, sigma, r, q)\n",
    "    d_2 = d2(S, K, dT, sigma, r, q)\n",
    "    return S*np.exp(-q*dT)*norm.cdf(d_1) - K*np.exp(-r*dT)*norm.cdf(d_2)\n",
    "\n",
    "def Delta(S, K, dT, sigma, r, q):\n",
    "    d_1 = d1(S, K, dT, sigma, r, q)\n",
    "    return np.exp(-q*dT)*norm.cdf(d_1)\n",
    "\n",
    "def Gamma(S, K, dT, sigma, r, q):\n",
    "    d_1 = d1(S, K, dT, sigma, r, q)\n",
    "    return np.exp(-q*dT)*norm.pdf(d_1)/(S*sigma*np.sqrt(dT))\n",
    "\n",
    "def Rho(S, K, dT, sigma, r, q):\n",
    "    d_2 = d2(S, K, dT, sigma, r, q)\n",
    "    return K*dT*np.exp(-r*dT)*norm.cdf(d_2)\n",
    "\n",
    "def Vega(S, K, dT, sigma, r, q):\n",
    "    d_1 = d1(S, K, dT, sigma, r, q)\n",
    "    return np.exp(-q*dT)*S*norm.pdf(d_1)*np.sqrt(dT)\n",
    "\n",
    "def Theta(S, K, dT, sigma, r, q):\n",
    "    d_1 = d1(S, K, dT, sigma, r, q)\n",
    "    d_2 = d2(S, K, dT, sigma, r, q)\n",
    "    return -.5*np.exp(-q*dT)*S*norm.pdf(d_1)*sigma/np.sqrt(dT)+q*np.exp(-q*dT)*S*norm.cdf(d_1)-r*K*np.exp(-r*dT)*norm.cdf(d_2)\n",
    "\n",
    "def Vanna(S, K, dT, sigma, r, q):\n",
    "    d_1 = d1(S, K, dT, sigma, r, q)\n",
    "    d_2 = d2(S, K, dT, sigma, r, q)\n",
    "    return -np.exp(-q*dT)*norm.pdf(d_1)*d_2/sigma\n",
    "\n",
    "def Vomma(S, K, dT, sigma, r, q):\n",
    "    d_1 = d1(S, K, dT, sigma, r, q)\n",
    "    d_2 = d2(S, K, dT, sigma, r, q)\n",
    "    return np.exp(-q*dT)*S*norm.pdf(d_1)*np.sqrt(dT)*d_1*d_2/sigma\n",
    "\n",
    "def Speed(S, K, dT, sigma, r, q):\n",
    "    d_1 = d1(S, K, dT, sigma, r, q)\n",
    "    gamma = Gamma(S, K, dT, sigma, r, q)\n",
    "    return -(d_1/(sigma*np.sqrt(dT))+1)*gamma/S\n",
    "\n",
    "def Zomma(S, K, dT, sigma, r, q):\n",
    "    d_1 = d1(S, K, dT, sigma, r, q)\n",
    "    d_2 = d2(S, K, dT, sigma, r, q)\n",
    "    gamma = Gamma(S, K, dT, sigma, r, q)\n",
    "    return gamma*((d_1*d_2-1)/sigma)\n",
    "\n",
    "def Ultima(S, K, dT, sigma, r, q):\n",
    "    d_1 = d1(S, K, dT, sigma, r, q)\n",
    "    d_2 = d2(S, K, dT, sigma, r, q)\n",
    "    vega = Vega(S, K, dT, sigma, r, q)\n",
    "    return -vega*(d_1*d_2*(1-d_1*d_2)+d_1**2+d_2**2)/sigma**2"
   ]
  },
  {
   "cell_type": "code",
   "execution_count": 3,
   "metadata": {},
   "outputs": [
    {
     "name": "stdout",
     "output_type": "stream",
     "text": [
      "\u001b[1mblackScholes\u001b[0m:     8.7645\n",
      "\u001b[1m       Delta\u001b[0m:    0.46894\n",
      "\u001b[1m       Gamma\u001b[0m:    0.01381\n",
      "\u001b[1m         Rho\u001b[0m:   76.25952\n",
      "\u001b[1m        Vega\u001b[0m:   55.22083\n",
      "\u001b[1m       Theta\u001b[0m:   -3.43599\n",
      "\u001b[1m       Vanna\u001b[0m:    0.65789\n",
      "\u001b[1m       Vomma\u001b[0m:    5.03619\n",
      "\u001b[1m       Speed\u001b[0m:   -0.00011\n",
      "\u001b[1m       Zomma\u001b[0m:   -0.06777\n",
      "\u001b[1m      Ultima\u001b[0m: -185.52528\n"
     ]
    }
   ],
   "source": [
    "S = 100.\n",
    "K = 110.\n",
    "dT = 2.\n",
    "sigma = 0.2\n",
    "r = 0.03\n",
    "q = 0.01\n",
    "\n",
    "functions = [blackScholes,Delta, Gamma, Rho, Vega, Theta, Vanna, Vomma, Speed, Zomma, Ultima]\n",
    "\n",
    "for function in functions:\n",
    "    print(\"\\33[1m{:>12}\\33[0m: {:>10}\".format(function.__name__, round(function(S, K, dT, sigma, r, q),5)))"
   ]
  }
 ],
 "metadata": {
  "kernelspec": {
   "display_name": "Python 3",
   "language": "python",
   "name": "python3"
  },
  "language_info": {
   "codemirror_mode": {
    "name": "ipython",
    "version": 3
   },
   "file_extension": ".py",
   "mimetype": "text/x-python",
   "name": "python",
   "nbconvert_exporter": "python",
   "pygments_lexer": "ipython3",
   "version": "3.6.8"
  }
 },
 "nbformat": 4,
 "nbformat_minor": 2
}
